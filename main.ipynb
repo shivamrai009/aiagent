import speech_recognition as sr
from transformers import pipeline
from gtts import gTTS
import IPython.display as ipd
from google.colab import files


generator = pipeline("text-generation", model="distilgpt2")

def recognize_speech():
    recognizer = sr.Recognizer()

    print("📂 Please upload an audio file (.wav, .mp3)...")
    uploaded = files.upload()  # Upload file manually

    for filename in uploaded.keys():
        with sr.AudioFile(filename) as source:
            audio = recognizer.record(source)

        try:
            text = recognizer.recognize_google(audio)
            print("📝 Recognized Text:", text)
            return text
        except sr.UnknownValueError:
            print("❌ Sorry, I couldn't understand the audio.")
            return None
        except sr.RequestError:
            print("❌ API unavailable.")
            return None

def speak(text):
    tts = gTTS(text, lang="en")  # Google Text-to-Speech
    tts.save("response.mp3")
    ipd.display(ipd.Audio("response.mp3"))  # Play in Colab

def generate_response(user_input):
    response = generator(user_input, max_length=50, num_return_sequences=1)
    return response[0]["generated_text"]


user_input = recognize_speech()

if user_input:
    response = generate_response(user_input)
    print("🤖 AI Response:", response)
    speak(response)  
